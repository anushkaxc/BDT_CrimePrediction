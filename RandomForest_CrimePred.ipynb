{
  "cells": [
    {
      "cell_type": "code",
      "execution_count": null,
      "metadata": {
        "colab": {
          "background_save": true,
          "base_uri": "https://localhost:8080/"
        },
        "id": "2x16qon4sE50",
        "outputId": "fec962c9-710d-42c9-ec35-03633782f788"
      },
      "outputs": [
        {
          "name": "stdout",
          "output_type": "stream",
          "text": [
            "Looking in indexes: https://pypi.org/simple, https://us-python.pkg.dev/colab-wheels/public/simple/\n",
            "Requirement already satisfied: pystan~=2.14 in /usr/local/lib/python3.7/dist-packages (2.19.1.1)\n",
            "Requirement already satisfied: Cython!=0.25.1,>=0.22 in /usr/local/lib/python3.7/dist-packages (from pystan~=2.14) (0.29.32)\n",
            "Requirement already satisfied: numpy>=1.7 in /usr/local/lib/python3.7/dist-packages (from pystan~=2.14) (1.21.6)\n"
          ]
        }
      ],
      "source": [
        "!pip install pystan~=2.14"
      ]
    },
    {
      "cell_type": "code",
      "execution_count": null,
      "metadata": {
        "colab": {
          "background_save": true,
          "base_uri": "https://localhost:8080/",
          "height": 357
        },
        "id": "9inWPNkfstSg",
        "outputId": "1406d493-f354-47c1-c2db-13b1e222ed75"
      },
      "outputs": [
        {
          "name": "stderr",
          "output_type": "stream",
          "text": [
            "/usr/local/lib/python3.7/dist-packages/IPython/core/interactiveshell.py:3326: DtypeWarning: Columns (16,26) have mixed types.Specify dtype option on import or set low_memory=False.\n",
            "  exec(code_obj, self.user_global_ns, self.user_ns)\n"
          ]
        }
      ],
      "source": [
        "import pandas as pd\n",
        "import numpy as np\n",
        "import matplotlib.pyplot as plt\n",
        "import seaborn as sns\n",
        "from fbprophet import Prophet\n",
        "df = pd.read_csv('https://query.data.world/s/ulfoeiyhown53xn4mdumozmyutdky6')\n"
      ]
    },
    {
      "cell_type": "code",
      "execution_count": null,
      "metadata": {
        "colab": {
          "background_save": true
        },
        "id": "tiE5h7R1WLQ4",
        "outputId": "1b53a391-840f-4aed-b7d8-336924fbca88"
      },
      "outputs": [
        {
          "data": {
            "text/html": [
              "\n",
              "  <div id=\"df-aa85ac2b-3054-4069-8589-06755de3e6a3\">\n",
              "    <div class=\"colab-df-container\">\n",
              "      <div>\n",
              "<style scoped>\n",
              "    .dataframe tbody tr th:only-of-type {\n",
              "        vertical-align: middle;\n",
              "    }\n",
              "\n",
              "    .dataframe tbody tr th {\n",
              "        vertical-align: top;\n",
              "    }\n",
              "\n",
              "    .dataframe thead th {\n",
              "        text-align: right;\n",
              "    }\n",
              "</style>\n",
              "<table border=\"1\" class=\"dataframe\">\n",
              "  <thead>\n",
              "    <tr style=\"text-align: right;\">\n",
              "      <th></th>\n",
              "      <th>Incident Number</th>\n",
              "      <th>Highest Offense Description</th>\n",
              "      <th>Highest Offense Code</th>\n",
              "      <th>Family Violence</th>\n",
              "      <th>Occurred Date Time</th>\n",
              "      <th>Occurred Date</th>\n",
              "      <th>Occurred Time</th>\n",
              "      <th>Report Date Time</th>\n",
              "      <th>Report Date</th>\n",
              "      <th>Report Time</th>\n",
              "      <th>...</th>\n",
              "      <th>Census Tract</th>\n",
              "      <th>Clearance Status</th>\n",
              "      <th>Clearance Date</th>\n",
              "      <th>UCR Category</th>\n",
              "      <th>Category Description</th>\n",
              "      <th>X-coordinate</th>\n",
              "      <th>Y-coordinate</th>\n",
              "      <th>Latitude</th>\n",
              "      <th>Longitude</th>\n",
              "      <th>Location</th>\n",
              "    </tr>\n",
              "  </thead>\n",
              "  <tbody>\n",
              "    <tr>\n",
              "      <th>0</th>\n",
              "      <td>2007791157</td>\n",
              "      <td>INVASIVE VISUAL RECORDING</td>\n",
              "      <td>2609</td>\n",
              "      <td>N</td>\n",
              "      <td>03/20/2007 02:38:00 PM</td>\n",
              "      <td>03/20/2007</td>\n",
              "      <td>1438.0</td>\n",
              "      <td>03/20/2007 02:38:00 PM</td>\n",
              "      <td>03/20/2007</td>\n",
              "      <td>1438.0</td>\n",
              "      <td>...</td>\n",
              "      <td>12.00</td>\n",
              "      <td>N</td>\n",
              "      <td>03/23/2007</td>\n",
              "      <td>NaN</td>\n",
              "      <td>NaN</td>\n",
              "      <td>0.0</td>\n",
              "      <td>0.0</td>\n",
              "      <td>NaN</td>\n",
              "      <td>NaN</td>\n",
              "      <td>NaN</td>\n",
              "    </tr>\n",
              "    <tr>\n",
              "      <th>1</th>\n",
              "      <td>20181410493</td>\n",
              "      <td>INDECENCY WITH A CHILD/CONTACT</td>\n",
              "      <td>1709</td>\n",
              "      <td>N</td>\n",
              "      <td>05/18/2018 04:00:00 PM</td>\n",
              "      <td>05/18/2018</td>\n",
              "      <td>1600.0</td>\n",
              "      <td>05/21/2018 09:11:00 AM</td>\n",
              "      <td>05/21/2018</td>\n",
              "      <td>911.0</td>\n",
              "      <td>...</td>\n",
              "      <td>24.07</td>\n",
              "      <td>N</td>\n",
              "      <td>09/06/2018</td>\n",
              "      <td>NaN</td>\n",
              "      <td>NaN</td>\n",
              "      <td>0.0</td>\n",
              "      <td>0.0</td>\n",
              "      <td>NaN</td>\n",
              "      <td>NaN</td>\n",
              "      <td>NaN</td>\n",
              "    </tr>\n",
              "    <tr>\n",
              "      <th>2</th>\n",
              "      <td>20183000009</td>\n",
              "      <td>DATING DISTURBANCE</td>\n",
              "      <td>2400</td>\n",
              "      <td>N</td>\n",
              "      <td>10/27/2018 12:03:00 AM</td>\n",
              "      <td>10/27/2018</td>\n",
              "      <td>3.0</td>\n",
              "      <td>10/27/2018 12:28:00 AM</td>\n",
              "      <td>10/27/2018</td>\n",
              "      <td>28.0</td>\n",
              "      <td>...</td>\n",
              "      <td>NaN</td>\n",
              "      <td>N</td>\n",
              "      <td>10/31/2018</td>\n",
              "      <td>NaN</td>\n",
              "      <td>NaN</td>\n",
              "      <td>NaN</td>\n",
              "      <td>NaN</td>\n",
              "      <td>NaN</td>\n",
              "      <td>NaN</td>\n",
              "      <td>NaN</td>\n",
              "    </tr>\n",
              "    <tr>\n",
              "      <th>3</th>\n",
              "      <td>20141381413</td>\n",
              "      <td>FAMILY DISTURBANCE</td>\n",
              "      <td>3400</td>\n",
              "      <td>N</td>\n",
              "      <td>05/18/2014 07:09:00 PM</td>\n",
              "      <td>05/18/2014</td>\n",
              "      <td>1909.0</td>\n",
              "      <td>05/18/2014 07:09:00 PM</td>\n",
              "      <td>05/18/2014</td>\n",
              "      <td>1909.0</td>\n",
              "      <td>...</td>\n",
              "      <td>NaN</td>\n",
              "      <td>N</td>\n",
              "      <td>05/26/2014</td>\n",
              "      <td>NaN</td>\n",
              "      <td>NaN</td>\n",
              "      <td>NaN</td>\n",
              "      <td>NaN</td>\n",
              "      <td>NaN</td>\n",
              "      <td>NaN</td>\n",
              "      <td>NaN</td>\n",
              "    </tr>\n",
              "    <tr>\n",
              "      <th>4</th>\n",
              "      <td>20081002040</td>\n",
              "      <td>CRASH/FAIL STOP AND RENDER AID</td>\n",
              "      <td>3604</td>\n",
              "      <td>N</td>\n",
              "      <td>04/09/2008 07:04:00 PM</td>\n",
              "      <td>04/09/2008</td>\n",
              "      <td>1904.0</td>\n",
              "      <td>04/09/2008 09:08:00 PM</td>\n",
              "      <td>04/09/2008</td>\n",
              "      <td>2108.0</td>\n",
              "      <td>...</td>\n",
              "      <td>NaN</td>\n",
              "      <td>N</td>\n",
              "      <td>12/16/2008</td>\n",
              "      <td>NaN</td>\n",
              "      <td>NaN</td>\n",
              "      <td>NaN</td>\n",
              "      <td>NaN</td>\n",
              "      <td>NaN</td>\n",
              "      <td>NaN</td>\n",
              "      <td>NaN</td>\n",
              "    </tr>\n",
              "  </tbody>\n",
              "</table>\n",
              "<p>5 rows × 27 columns</p>\n",
              "</div>\n",
              "      <button class=\"colab-df-convert\" onclick=\"convertToInteractive('df-aa85ac2b-3054-4069-8589-06755de3e6a3')\"\n",
              "              title=\"Convert this dataframe to an interactive table.\"\n",
              "              style=\"display:none;\">\n",
              "        \n",
              "  <svg xmlns=\"http://www.w3.org/2000/svg\" height=\"24px\"viewBox=\"0 0 24 24\"\n",
              "       width=\"24px\">\n",
              "    <path d=\"M0 0h24v24H0V0z\" fill=\"none\"/>\n",
              "    <path d=\"M18.56 5.44l.94 2.06.94-2.06 2.06-.94-2.06-.94-.94-2.06-.94 2.06-2.06.94zm-11 1L8.5 8.5l.94-2.06 2.06-.94-2.06-.94L8.5 2.5l-.94 2.06-2.06.94zm10 10l.94 2.06.94-2.06 2.06-.94-2.06-.94-.94-2.06-.94 2.06-2.06.94z\"/><path d=\"M17.41 7.96l-1.37-1.37c-.4-.4-.92-.59-1.43-.59-.52 0-1.04.2-1.43.59L10.3 9.45l-7.72 7.72c-.78.78-.78 2.05 0 2.83L4 21.41c.39.39.9.59 1.41.59.51 0 1.02-.2 1.41-.59l7.78-7.78 2.81-2.81c.8-.78.8-2.07 0-2.86zM5.41 20L4 18.59l7.72-7.72 1.47 1.35L5.41 20z\"/>\n",
              "  </svg>\n",
              "      </button>\n",
              "      \n",
              "  <style>\n",
              "    .colab-df-container {\n",
              "      display:flex;\n",
              "      flex-wrap:wrap;\n",
              "      gap: 12px;\n",
              "    }\n",
              "\n",
              "    .colab-df-convert {\n",
              "      background-color: #E8F0FE;\n",
              "      border: none;\n",
              "      border-radius: 50%;\n",
              "      cursor: pointer;\n",
              "      display: none;\n",
              "      fill: #1967D2;\n",
              "      height: 32px;\n",
              "      padding: 0 0 0 0;\n",
              "      width: 32px;\n",
              "    }\n",
              "\n",
              "    .colab-df-convert:hover {\n",
              "      background-color: #E2EBFA;\n",
              "      box-shadow: 0px 1px 2px rgba(60, 64, 67, 0.3), 0px 1px 3px 1px rgba(60, 64, 67, 0.15);\n",
              "      fill: #174EA6;\n",
              "    }\n",
              "\n",
              "    [theme=dark] .colab-df-convert {\n",
              "      background-color: #3B4455;\n",
              "      fill: #D2E3FC;\n",
              "    }\n",
              "\n",
              "    [theme=dark] .colab-df-convert:hover {\n",
              "      background-color: #434B5C;\n",
              "      box-shadow: 0px 1px 3px 1px rgba(0, 0, 0, 0.15);\n",
              "      filter: drop-shadow(0px 1px 2px rgba(0, 0, 0, 0.3));\n",
              "      fill: #FFFFFF;\n",
              "    }\n",
              "  </style>\n",
              "\n",
              "      <script>\n",
              "        const buttonEl =\n",
              "          document.querySelector('#df-aa85ac2b-3054-4069-8589-06755de3e6a3 button.colab-df-convert');\n",
              "        buttonEl.style.display =\n",
              "          google.colab.kernel.accessAllowed ? 'block' : 'none';\n",
              "\n",
              "        async function convertToInteractive(key) {\n",
              "          const element = document.querySelector('#df-aa85ac2b-3054-4069-8589-06755de3e6a3');\n",
              "          const dataTable =\n",
              "            await google.colab.kernel.invokeFunction('convertToInteractive',\n",
              "                                                     [key], {});\n",
              "          if (!dataTable) return;\n",
              "\n",
              "          const docLinkHtml = 'Like what you see? Visit the ' +\n",
              "            '<a target=\"_blank\" href=https://colab.research.google.com/notebooks/data_table.ipynb>data table notebook</a>'\n",
              "            + ' to learn more about interactive tables.';\n",
              "          element.innerHTML = '';\n",
              "          dataTable['output_type'] = 'display_data';\n",
              "          await google.colab.output.renderOutput(dataTable, element);\n",
              "          const docLink = document.createElement('div');\n",
              "          docLink.innerHTML = docLinkHtml;\n",
              "          element.appendChild(docLink);\n",
              "        }\n",
              "      </script>\n",
              "    </div>\n",
              "  </div>\n",
              "  "
            ],
            "text/plain": [
              "   Incident Number     Highest Offense Description  Highest Offense Code  \\\n",
              "0       2007791157       INVASIVE VISUAL RECORDING                  2609   \n",
              "1      20181410493  INDECENCY WITH A CHILD/CONTACT                  1709   \n",
              "2      20183000009              DATING DISTURBANCE                  2400   \n",
              "3      20141381413              FAMILY DISTURBANCE                  3400   \n",
              "4      20081002040  CRASH/FAIL STOP AND RENDER AID                  3604   \n",
              "\n",
              "  Family Violence      Occurred Date Time Occurred Date  Occurred Time  \\\n",
              "0               N  03/20/2007 02:38:00 PM    03/20/2007         1438.0   \n",
              "1               N  05/18/2018 04:00:00 PM    05/18/2018         1600.0   \n",
              "2               N  10/27/2018 12:03:00 AM    10/27/2018            3.0   \n",
              "3               N  05/18/2014 07:09:00 PM    05/18/2014         1909.0   \n",
              "4               N  04/09/2008 07:04:00 PM    04/09/2008         1904.0   \n",
              "\n",
              "         Report Date Time Report Date  Report Time  ... Census Tract  \\\n",
              "0  03/20/2007 02:38:00 PM  03/20/2007       1438.0  ...        12.00   \n",
              "1  05/21/2018 09:11:00 AM  05/21/2018        911.0  ...        24.07   \n",
              "2  10/27/2018 12:28:00 AM  10/27/2018         28.0  ...          NaN   \n",
              "3  05/18/2014 07:09:00 PM  05/18/2014       1909.0  ...          NaN   \n",
              "4  04/09/2008 09:08:00 PM  04/09/2008       2108.0  ...          NaN   \n",
              "\n",
              "  Clearance Status  Clearance Date  UCR Category Category Description  \\\n",
              "0                N      03/23/2007           NaN                  NaN   \n",
              "1                N      09/06/2018           NaN                  NaN   \n",
              "2                N      10/31/2018           NaN                  NaN   \n",
              "3                N      05/26/2014           NaN                  NaN   \n",
              "4                N      12/16/2008           NaN                  NaN   \n",
              "\n",
              "  X-coordinate Y-coordinate  Latitude Longitude Location  \n",
              "0          0.0          0.0       NaN       NaN      NaN  \n",
              "1          0.0          0.0       NaN       NaN      NaN  \n",
              "2          NaN          NaN       NaN       NaN      NaN  \n",
              "3          NaN          NaN       NaN       NaN      NaN  \n",
              "4          NaN          NaN       NaN       NaN      NaN  \n",
              "\n",
              "[5 rows x 27 columns]"
            ]
          },
          "execution_count": 8,
          "metadata": {},
          "output_type": "execute_result"
        }
      ],
      "source": [
        "df.head()"
      ]
    },
    {
      "cell_type": "code",
      "execution_count": null,
      "metadata": {
        "colab": {
          "background_save": true
        },
        "id": "I9T3xEf_3-xk",
        "outputId": "793a97a5-0716-4dfd-ce04-117b881f654f"
      },
      "outputs": [
        {
          "data": {
            "text/html": [
              "\n",
              "  <div id=\"df-579f3042-a91f-42a3-b82b-0985abbe82b4\">\n",
              "    <div class=\"colab-df-container\">\n",
              "      <div>\n",
              "<style scoped>\n",
              "    .dataframe tbody tr th:only-of-type {\n",
              "        vertical-align: middle;\n",
              "    }\n",
              "\n",
              "    .dataframe tbody tr th {\n",
              "        vertical-align: top;\n",
              "    }\n",
              "\n",
              "    .dataframe thead th {\n",
              "        text-align: right;\n",
              "    }\n",
              "</style>\n",
              "<table border=\"1\" class=\"dataframe\">\n",
              "  <thead>\n",
              "    <tr style=\"text-align: right;\">\n",
              "      <th></th>\n",
              "      <th>Incident Number</th>\n",
              "      <th>Highest Offense Description</th>\n",
              "      <th>Highest Offense Code</th>\n",
              "      <th>Family Violence</th>\n",
              "      <th>Occurred Date Time</th>\n",
              "      <th>Occurred Date</th>\n",
              "      <th>Occurred Time</th>\n",
              "      <th>Report Date Time</th>\n",
              "      <th>Report Date</th>\n",
              "      <th>Report Time</th>\n",
              "      <th>...</th>\n",
              "      <th>Census Tract</th>\n",
              "      <th>Clearance Status</th>\n",
              "      <th>Clearance Date</th>\n",
              "      <th>UCR Category</th>\n",
              "      <th>Category Description</th>\n",
              "      <th>X-coordinate</th>\n",
              "      <th>Y-coordinate</th>\n",
              "      <th>Latitude</th>\n",
              "      <th>Longitude</th>\n",
              "      <th>Location</th>\n",
              "    </tr>\n",
              "  </thead>\n",
              "  <tbody>\n",
              "    <tr>\n",
              "      <th>2175270</th>\n",
              "      <td>201721579</td>\n",
              "      <td>VIOL OF PROTECTIVE ORDER</td>\n",
              "      <td>3009</td>\n",
              "      <td>N</td>\n",
              "      <td>01/02/2017 09:12:00 PM</td>\n",
              "      <td>01/02/2017</td>\n",
              "      <td>2112.0</td>\n",
              "      <td>01/02/2017 10:17:00 PM</td>\n",
              "      <td>01/02/2017</td>\n",
              "      <td>2217.0</td>\n",
              "      <td>...</td>\n",
              "      <td>23.15</td>\n",
              "      <td>C</td>\n",
              "      <td>01/02/2017</td>\n",
              "      <td>NaN</td>\n",
              "      <td>NaN</td>\n",
              "      <td>3118036.0</td>\n",
              "      <td>3118036.0</td>\n",
              "      <td>30.232558</td>\n",
              "      <td>-97.731967</td>\n",
              "      <td>(30.23255819, -97.73196698)</td>\n",
              "    </tr>\n",
              "    <tr>\n",
              "      <th>2175271</th>\n",
              "      <td>2013351687</td>\n",
              "      <td>CUSTODY ARREST TRAFFIC WARR</td>\n",
              "      <td>3722</td>\n",
              "      <td>N</td>\n",
              "      <td>02/04/2013 10:45:00 PM</td>\n",
              "      <td>02/04/2013</td>\n",
              "      <td>2245.0</td>\n",
              "      <td>02/04/2013 10:45:00 PM</td>\n",
              "      <td>02/04/2013</td>\n",
              "      <td>2245.0</td>\n",
              "      <td>...</td>\n",
              "      <td>13.05</td>\n",
              "      <td>C</td>\n",
              "      <td>02/11/2013</td>\n",
              "      <td>NaN</td>\n",
              "      <td>NaN</td>\n",
              "      <td>3112339.0</td>\n",
              "      <td>3112339.0</td>\n",
              "      <td>30.251071</td>\n",
              "      <td>-97.749516</td>\n",
              "      <td>(30.25107106, -97.74951613)</td>\n",
              "    </tr>\n",
              "    <tr>\n",
              "      <th>2175272</th>\n",
              "      <td>20152681539</td>\n",
              "      <td>DISTURBANCE - OTHER</td>\n",
              "      <td>3401</td>\n",
              "      <td>N</td>\n",
              "      <td>09/25/2015 05:49:00 PM</td>\n",
              "      <td>09/25/2015</td>\n",
              "      <td>1749.0</td>\n",
              "      <td>09/25/2015 08:17:00 PM</td>\n",
              "      <td>09/25/2015</td>\n",
              "      <td>2017.0</td>\n",
              "      <td>...</td>\n",
              "      <td>20.05</td>\n",
              "      <td>N</td>\n",
              "      <td>09/29/2015</td>\n",
              "      <td>NaN</td>\n",
              "      <td>NaN</td>\n",
              "      <td>3102372.0</td>\n",
              "      <td>3102372.0</td>\n",
              "      <td>30.240661</td>\n",
              "      <td>-97.781366</td>\n",
              "      <td>(30.24066148, -97.7813662)</td>\n",
              "    </tr>\n",
              "    <tr>\n",
              "      <th>2175273</th>\n",
              "      <td>2005441710</td>\n",
              "      <td>ASSAULT BY CONTACT</td>\n",
              "      <td>902</td>\n",
              "      <td>N</td>\n",
              "      <td>02/13/2005 07:26:00 PM</td>\n",
              "      <td>02/13/2005</td>\n",
              "      <td>1926.0</td>\n",
              "      <td>02/13/2005 07:26:00 PM</td>\n",
              "      <td>02/13/2005</td>\n",
              "      <td>1926.0</td>\n",
              "      <td>...</td>\n",
              "      <td>21.10</td>\n",
              "      <td>N</td>\n",
              "      <td>11/10/2005</td>\n",
              "      <td>NaN</td>\n",
              "      <td>NaN</td>\n",
              "      <td>3133317.0</td>\n",
              "      <td>3133317.0</td>\n",
              "      <td>30.267650</td>\n",
              "      <td>-97.682603</td>\n",
              "      <td>(30.26765018, -97.68260306)</td>\n",
              "    </tr>\n",
              "    <tr>\n",
              "      <th>2175274</th>\n",
              "      <td>20102102341</td>\n",
              "      <td>DWI</td>\n",
              "      <td>2100</td>\n",
              "      <td>N</td>\n",
              "      <td>07/29/2010 10:24:00 PM</td>\n",
              "      <td>07/29/2010</td>\n",
              "      <td>2224.0</td>\n",
              "      <td>07/29/2010 10:24:00 PM</td>\n",
              "      <td>07/29/2010</td>\n",
              "      <td>2224.0</td>\n",
              "      <td>...</td>\n",
              "      <td>17.47</td>\n",
              "      <td>C</td>\n",
              "      <td>07/30/2010</td>\n",
              "      <td>NaN</td>\n",
              "      <td>NaN</td>\n",
              "      <td>3086887.0</td>\n",
              "      <td>3086887.0</td>\n",
              "      <td>30.176576</td>\n",
              "      <td>-97.832076</td>\n",
              "      <td>(30.17657648, -97.83207608)</td>\n",
              "    </tr>\n",
              "  </tbody>\n",
              "</table>\n",
              "<p>5 rows × 27 columns</p>\n",
              "</div>\n",
              "      <button class=\"colab-df-convert\" onclick=\"convertToInteractive('df-579f3042-a91f-42a3-b82b-0985abbe82b4')\"\n",
              "              title=\"Convert this dataframe to an interactive table.\"\n",
              "              style=\"display:none;\">\n",
              "        \n",
              "  <svg xmlns=\"http://www.w3.org/2000/svg\" height=\"24px\"viewBox=\"0 0 24 24\"\n",
              "       width=\"24px\">\n",
              "    <path d=\"M0 0h24v24H0V0z\" fill=\"none\"/>\n",
              "    <path d=\"M18.56 5.44l.94 2.06.94-2.06 2.06-.94-2.06-.94-.94-2.06-.94 2.06-2.06.94zm-11 1L8.5 8.5l.94-2.06 2.06-.94-2.06-.94L8.5 2.5l-.94 2.06-2.06.94zm10 10l.94 2.06.94-2.06 2.06-.94-2.06-.94-.94-2.06-.94 2.06-2.06.94z\"/><path d=\"M17.41 7.96l-1.37-1.37c-.4-.4-.92-.59-1.43-.59-.52 0-1.04.2-1.43.59L10.3 9.45l-7.72 7.72c-.78.78-.78 2.05 0 2.83L4 21.41c.39.39.9.59 1.41.59.51 0 1.02-.2 1.41-.59l7.78-7.78 2.81-2.81c.8-.78.8-2.07 0-2.86zM5.41 20L4 18.59l7.72-7.72 1.47 1.35L5.41 20z\"/>\n",
              "  </svg>\n",
              "      </button>\n",
              "      \n",
              "  <style>\n",
              "    .colab-df-container {\n",
              "      display:flex;\n",
              "      flex-wrap:wrap;\n",
              "      gap: 12px;\n",
              "    }\n",
              "\n",
              "    .colab-df-convert {\n",
              "      background-color: #E8F0FE;\n",
              "      border: none;\n",
              "      border-radius: 50%;\n",
              "      cursor: pointer;\n",
              "      display: none;\n",
              "      fill: #1967D2;\n",
              "      height: 32px;\n",
              "      padding: 0 0 0 0;\n",
              "      width: 32px;\n",
              "    }\n",
              "\n",
              "    .colab-df-convert:hover {\n",
              "      background-color: #E2EBFA;\n",
              "      box-shadow: 0px 1px 2px rgba(60, 64, 67, 0.3), 0px 1px 3px 1px rgba(60, 64, 67, 0.15);\n",
              "      fill: #174EA6;\n",
              "    }\n",
              "\n",
              "    [theme=dark] .colab-df-convert {\n",
              "      background-color: #3B4455;\n",
              "      fill: #D2E3FC;\n",
              "    }\n",
              "\n",
              "    [theme=dark] .colab-df-convert:hover {\n",
              "      background-color: #434B5C;\n",
              "      box-shadow: 0px 1px 3px 1px rgba(0, 0, 0, 0.15);\n",
              "      filter: drop-shadow(0px 1px 2px rgba(0, 0, 0, 0.3));\n",
              "      fill: #FFFFFF;\n",
              "    }\n",
              "  </style>\n",
              "\n",
              "      <script>\n",
              "        const buttonEl =\n",
              "          document.querySelector('#df-579f3042-a91f-42a3-b82b-0985abbe82b4 button.colab-df-convert');\n",
              "        buttonEl.style.display =\n",
              "          google.colab.kernel.accessAllowed ? 'block' : 'none';\n",
              "\n",
              "        async function convertToInteractive(key) {\n",
              "          const element = document.querySelector('#df-579f3042-a91f-42a3-b82b-0985abbe82b4');\n",
              "          const dataTable =\n",
              "            await google.colab.kernel.invokeFunction('convertToInteractive',\n",
              "                                                     [key], {});\n",
              "          if (!dataTable) return;\n",
              "\n",
              "          const docLinkHtml = 'Like what you see? Visit the ' +\n",
              "            '<a target=\"_blank\" href=https://colab.research.google.com/notebooks/data_table.ipynb>data table notebook</a>'\n",
              "            + ' to learn more about interactive tables.';\n",
              "          element.innerHTML = '';\n",
              "          dataTable['output_type'] = 'display_data';\n",
              "          await google.colab.output.renderOutput(dataTable, element);\n",
              "          const docLink = document.createElement('div');\n",
              "          docLink.innerHTML = docLinkHtml;\n",
              "          element.appendChild(docLink);\n",
              "        }\n",
              "      </script>\n",
              "    </div>\n",
              "  </div>\n",
              "  "
            ],
            "text/plain": [
              "         Incident Number  Highest Offense Description  Highest Offense Code  \\\n",
              "2175270        201721579     VIOL OF PROTECTIVE ORDER                  3009   \n",
              "2175271       2013351687  CUSTODY ARREST TRAFFIC WARR                  3722   \n",
              "2175272      20152681539          DISTURBANCE - OTHER                  3401   \n",
              "2175273       2005441710           ASSAULT BY CONTACT                   902   \n",
              "2175274      20102102341                          DWI                  2100   \n",
              "\n",
              "        Family Violence      Occurred Date Time Occurred Date  Occurred Time  \\\n",
              "2175270               N  01/02/2017 09:12:00 PM    01/02/2017         2112.0   \n",
              "2175271               N  02/04/2013 10:45:00 PM    02/04/2013         2245.0   \n",
              "2175272               N  09/25/2015 05:49:00 PM    09/25/2015         1749.0   \n",
              "2175273               N  02/13/2005 07:26:00 PM    02/13/2005         1926.0   \n",
              "2175274               N  07/29/2010 10:24:00 PM    07/29/2010         2224.0   \n",
              "\n",
              "               Report Date Time Report Date  Report Time  ... Census Tract  \\\n",
              "2175270  01/02/2017 10:17:00 PM  01/02/2017       2217.0  ...        23.15   \n",
              "2175271  02/04/2013 10:45:00 PM  02/04/2013       2245.0  ...        13.05   \n",
              "2175272  09/25/2015 08:17:00 PM  09/25/2015       2017.0  ...        20.05   \n",
              "2175273  02/13/2005 07:26:00 PM  02/13/2005       1926.0  ...        21.10   \n",
              "2175274  07/29/2010 10:24:00 PM  07/29/2010       2224.0  ...        17.47   \n",
              "\n",
              "        Clearance Status  Clearance Date  UCR Category Category Description  \\\n",
              "2175270                C      01/02/2017           NaN                  NaN   \n",
              "2175271                C      02/11/2013           NaN                  NaN   \n",
              "2175272                N      09/29/2015           NaN                  NaN   \n",
              "2175273                N      11/10/2005           NaN                  NaN   \n",
              "2175274                C      07/30/2010           NaN                  NaN   \n",
              "\n",
              "        X-coordinate Y-coordinate   Latitude  Longitude  \\\n",
              "2175270    3118036.0    3118036.0  30.232558 -97.731967   \n",
              "2175271    3112339.0    3112339.0  30.251071 -97.749516   \n",
              "2175272    3102372.0    3102372.0  30.240661 -97.781366   \n",
              "2175273    3133317.0    3133317.0  30.267650 -97.682603   \n",
              "2175274    3086887.0    3086887.0  30.176576 -97.832076   \n",
              "\n",
              "                            Location  \n",
              "2175270  (30.23255819, -97.73196698)  \n",
              "2175271  (30.25107106, -97.74951613)  \n",
              "2175272   (30.24066148, -97.7813662)  \n",
              "2175273  (30.26765018, -97.68260306)  \n",
              "2175274  (30.17657648, -97.83207608)  \n",
              "\n",
              "[5 rows x 27 columns]"
            ]
          },
          "execution_count": 9,
          "metadata": {},
          "output_type": "execute_result"
        }
      ],
      "source": [
        "df.tail()"
      ]
    },
    {
      "cell_type": "code",
      "execution_count": null,
      "metadata": {
        "colab": {
          "background_save": true
        },
        "id": "AcgI0LjK4ErZ",
        "outputId": "4de8607e-dd6d-4d2b-f940-44d55f1fdeab"
      },
      "outputs": [
        {
          "data": {
            "text/plain": [
              "(2175275, 27)"
            ]
          },
          "execution_count": 10,
          "metadata": {},
          "output_type": "execute_result"
        }
      ],
      "source": [
        "df.shape"
      ]
    },
    {
      "cell_type": "code",
      "execution_count": null,
      "metadata": {
        "colab": {
          "background_save": true
        },
        "id": "JHH9wfeB4JdY",
        "outputId": "fb4062d8-8d89-45e4-c918-2f1f0405a899"
      },
      "outputs": [
        {
          "name": "stdout",
          "output_type": "stream",
          "text": [
            "Number of rows 2175275\n",
            "Number of columns 27\n"
          ]
        }
      ],
      "source": [
        "print('Number of rows',df.shape[0])\n",
        "print('Number of columns',df.shape[1])"
      ]
    },
    {
      "cell_type": "code",
      "execution_count": null,
      "metadata": {
        "colab": {
          "background_save": true
        },
        "id": "ppaLAizZ4hKg",
        "outputId": "a2b6db82-9559-4bd4-fc4e-b7ea92a1d4c4"
      },
      "outputs": [
        {
          "name": "stdout",
          "output_type": "stream",
          "text": [
            "<class 'pandas.core.frame.DataFrame'>\n",
            "RangeIndex: 2175275 entries, 0 to 2175274\n",
            "Data columns (total 27 columns):\n",
            " #   Column                       Dtype  \n",
            "---  ------                       -----  \n",
            " 0   Incident Number              int64  \n",
            " 1   Highest Offense Description  object \n",
            " 2   Highest Offense Code         int64  \n",
            " 3   Family Violence              object \n",
            " 4   Occurred Date Time           object \n",
            " 5   Occurred Date                object \n",
            " 6   Occurred Time                float64\n",
            " 7   Report Date Time             object \n",
            " 8   Report Date                  object \n",
            " 9   Report Time                  float64\n",
            " 10  Location Type                object \n",
            " 11  Address                      object \n",
            " 12  Zip Code                     float64\n",
            " 13  Council District             float64\n",
            " 14  APD Sector                   object \n",
            " 15  APD District                 object \n",
            " 16  PRA                          object \n",
            " 17  Census Tract                 float64\n",
            " 18  Clearance Status             object \n",
            " 19  Clearance Date               object \n",
            " 20  UCR Category                 object \n",
            " 21  Category Description         object \n",
            " 22  X-coordinate                 float64\n",
            " 23  Y-coordinate                 float64\n",
            " 24  Latitude                     float64\n",
            " 25  Longitude                    float64\n",
            " 26  Location                     object \n",
            "dtypes: float64(9), int64(2), object(16)\n",
            "memory usage: 448.1+ MB\n"
          ]
        }
      ],
      "source": [
        "df.info()"
      ]
    },
    {
      "cell_type": "code",
      "execution_count": null,
      "metadata": {
        "id": "HU74gife5IHG"
      },
      "outputs": [],
      "source": [
        "df.isnull().sum()"
      ]
    },
    {
      "cell_type": "code",
      "execution_count": null,
      "metadata": {
        "id": "uaiaUv9d5Nxk"
      },
      "outputs": [],
      "source": [
        "df.columns"
      ]
    },
    {
      "cell_type": "code",
      "execution_count": null,
      "metadata": {
        "id": "kTHE3C7i5kXJ"
      },
      "outputs": [],
      "source": [
        "df3 = df[['Incident Number','Highest Offense Description','Highest Offense Code', 'Family Violence', 'Occurred Date Time','Occurred Date', 'Occurred Time', 'Location Type', 'Address', 'Zip Code']]"
      ]
    },
    {
      "cell_type": "code",
      "execution_count": null,
      "metadata": {
        "id": "ryt9avQ36gDZ"
      },
      "outputs": [],
      "source": [
        "df3.head()"
      ]
    },
    {
      "cell_type": "code",
      "execution_count": null,
      "metadata": {
        "id": "pEHMqpZg6jqV"
      },
      "outputs": [],
      "source": [
        "df3.shape"
      ]
    },
    {
      "cell_type": "code",
      "execution_count": null,
      "metadata": {
        "id": "W86kAEoA6l3f"
      },
      "outputs": [],
      "source": [
        "df3.isnull().sum()"
      ]
    },
    {
      "cell_type": "code",
      "execution_count": null,
      "metadata": {
        "id": "9YynKItw6quX"
      },
      "outputs": [],
      "source": [
        "df3 = df3.dropna()"
      ]
    },
    {
      "cell_type": "code",
      "execution_count": null,
      "metadata": {
        "colab": {
          "background_save": true
        },
        "id": "gVbPZBK16wOo",
        "outputId": "65308aab-4c7e-473b-b212-2ab515fb3888"
      },
      "outputs": [
        {
          "data": {
            "text/plain": [
              "Incident Number                0\n",
              "Highest Offense Description    0\n",
              "Highest Offense Code           0\n",
              "Family Violence                0\n",
              "Occurred Date Time             0\n",
              "Occurred Date                  0\n",
              "Occurred Time                  0\n",
              "Location Type                  0\n",
              "Address                        0\n",
              "Zip Code                       0\n",
              "dtype: int64"
            ]
          },
          "execution_count": 20,
          "metadata": {},
          "output_type": "execute_result"
        }
      ],
      "source": [
        "df3.isnull().sum()"
      ]
    },
    {
      "cell_type": "code",
      "execution_count": null,
      "metadata": {
        "colab": {
          "background_save": true
        },
        "id": "jG8p4Ahb61ZQ",
        "outputId": "65a3f29c-29d4-4ef2-85f1-dc7407d7b50f"
      },
      "outputs": [
        {
          "name": "stdout",
          "output_type": "stream",
          "text": [
            "<class 'pandas.core.frame.DataFrame'>\n",
            "Int64Index: 2141107 entries, 0 to 2175274\n",
            "Data columns (total 10 columns):\n",
            " #   Column                       Dtype  \n",
            "---  ------                       -----  \n",
            " 0   Incident Number              int64  \n",
            " 1   Highest Offense Description  object \n",
            " 2   Highest Offense Code         int64  \n",
            " 3   Family Violence              object \n",
            " 4   Occurred Date Time           object \n",
            " 5   Occurred Date                object \n",
            " 6   Occurred Time                float64\n",
            " 7   Location Type                object \n",
            " 8   Address                      object \n",
            " 9   Zip Code                     float64\n",
            "dtypes: float64(2), int64(2), object(6)\n",
            "memory usage: 179.7+ MB\n"
          ]
        }
      ],
      "source": [
        "df3.info()"
      ]
    },
    {
      "cell_type": "code",
      "execution_count": null,
      "metadata": {
        "colab": {
          "background_save": true
        },
        "id": "h5RTFEB1u9Ju"
      },
      "outputs": [],
      "source": [
        "import datetime"
      ]
    },
    {
      "cell_type": "code",
      "execution_count": null,
      "metadata": {
        "id": "RFZ8MOiC71-S"
      },
      "outputs": [],
      "source": [
        "df4 = df3.rename(columns = {'Occurred Date Time': 'Date'})\n",
        "df4.columns\n",
        "df4.Date = pd.to_datetime(df4.Date,format = '%m/%d/%Y %I:%M:%S %p')"
      ]
    },
    {
      "cell_type": "code",
      "execution_count": null,
      "metadata": {
        "id": "DoR25Fy5_ckg"
      },
      "outputs": [],
      "source": [
        "df4.info()"
      ]
    },
    {
      "cell_type": "code",
      "execution_count": null,
      "metadata": {
        "id": "T2PS2nNzADOH"
      },
      "outputs": [],
      "source": [
        "df4['Highest Offense Description'].value_counts().head(10)"
      ]
    },
    {
      "cell_type": "code",
      "execution_count": null,
      "metadata": {
        "id": "mvuHkAP1AQqK"
      },
      "outputs": [],
      "source": [
        "df4['Location Type'].value_counts().head(10)"
      ]
    },
    {
      "cell_type": "code",
      "execution_count": null,
      "metadata": {
        "id": "ialfG3suAhrM"
      },
      "outputs": [],
      "source": [
        "df4.index = pd.DatetimeIndex(df4.Date)"
      ]
    },
    {
      "cell_type": "code",
      "execution_count": null,
      "metadata": {
        "id": "fuaucz70A1R5"
      },
      "outputs": [],
      "source": [
        "df4"
      ]
    },
    {
      "cell_type": "code",
      "execution_count": null,
      "metadata": {
        "colab": {
          "background_save": true
        },
        "id": "yhYwvjUbA_L8",
        "outputId": "8baa64ab-c2eb-44d8-fc3e-3cf402cd19ca"
      },
      "outputs": [
        {
          "data": {
            "text/plain": [
              "Text(0, 0.5, 'Number of Crimes')"
            ]
          },
          "execution_count": 29,
          "metadata": {},
          "output_type": "execute_result"
        },
        {
          "data": {
            "image/png": "[encoded data removed]",
            "text/plain": [
              "<Figure size 432x288 with 1 Axes>"
            ]
          },
          "metadata": {},
          "output_type": "display_data"
        }
      ],
      "source": [
        "plt.plot(df4.resample('Y').size())\n",
        "plt.title(\"Crime Counts Per Year\")\n",
        "plt.xlabel(\"Years\")\n",
        "plt.ylabel(\"Number of Crimes\")"
      ]
    },
    {
      "cell_type": "code",
      "execution_count": null,
      "metadata": {
        "id": "LHEnZr3IBpZq"
      },
      "outputs": [],
      "source": [
        "plt.plot(df4.resample('M').size())\n",
        "plt.title(\"Crime Counts Per Month\")\n",
        "plt.xlabel(\"Months\")\n",
        "plt.ylabel(\"Number of Crimes\")"
      ]
    },
    {
      "cell_type": "code",
      "execution_count": null,
      "metadata": {
        "colab": {
          "background_save": true
        },
        "id": "jQIAbYU1CA_i"
      },
      "outputs": [],
      "source": [
        "df_rf = pd.DataFrame(df4.resample('M').size().reset_index())"
      ]
    },
    {
      "cell_type": "code",
      "execution_count": null,
      "metadata": {
        "colab": {
          "background_save": true
        },
        "id": "Vu8wm5qUCF5E"
      },
      "outputs": [],
      "source": [
        "df_rf.columns = ['Date', 'Crime_Count']"
      ]
    },
    {
      "cell_type": "code",
      "execution_count": null,
      "metadata": {
        "colab": {
          "background_save": true
        },
        "id": "99zttr3-Cdi2",
        "outputId": "7a973992-d390-421b-9d51-913c381b7e72"
      },
      "outputs": [
        {
          "data": {
            "text/html": [
              "\n",
              "  <div id=\"df-928a77d7-c120-49a2-b2a5-8eebeffe4b29\">\n",
              "    <div class=\"colab-df-container\">\n",
              "      <div>\n",
              "<style scoped>\n",
              "    .dataframe tbody tr th:only-of-type {\n",
              "        vertical-align: middle;\n",
              "    }\n",
              "\n",
              "    .dataframe tbody tr th {\n",
              "        vertical-align: top;\n",
              "    }\n",
              "\n",
              "    .dataframe thead th {\n",
              "        text-align: right;\n",
              "    }\n",
              "</style>\n",
              "<table border=\"1\" class=\"dataframe\">\n",
              "  <thead>\n",
              "    <tr style=\"text-align: right;\">\n",
              "      <th></th>\n",
              "      <th>Date</th>\n",
              "      <th>Crime_Count</th>\n",
              "    </tr>\n",
              "  </thead>\n",
              "  <tbody>\n",
              "    <tr>\n",
              "      <th>0</th>\n",
              "      <td>2003-01-31</td>\n",
              "      <td>10448</td>\n",
              "    </tr>\n",
              "    <tr>\n",
              "      <th>1</th>\n",
              "      <td>2003-02-28</td>\n",
              "      <td>9048</td>\n",
              "    </tr>\n",
              "    <tr>\n",
              "      <th>2</th>\n",
              "      <td>2003-03-31</td>\n",
              "      <td>11078</td>\n",
              "    </tr>\n",
              "    <tr>\n",
              "      <th>3</th>\n",
              "      <td>2003-04-30</td>\n",
              "      <td>11449</td>\n",
              "    </tr>\n",
              "    <tr>\n",
              "      <th>4</th>\n",
              "      <td>2003-05-31</td>\n",
              "      <td>11771</td>\n",
              "    </tr>\n",
              "    <tr>\n",
              "      <th>...</th>\n",
              "      <td>...</td>\n",
              "      <td>...</td>\n",
              "    </tr>\n",
              "    <tr>\n",
              "      <th>197</th>\n",
              "      <td>2019-06-30</td>\n",
              "      <td>8733</td>\n",
              "    </tr>\n",
              "    <tr>\n",
              "      <th>198</th>\n",
              "      <td>2019-07-31</td>\n",
              "      <td>9184</td>\n",
              "    </tr>\n",
              "    <tr>\n",
              "      <th>199</th>\n",
              "      <td>2019-08-31</td>\n",
              "      <td>9170</td>\n",
              "    </tr>\n",
              "    <tr>\n",
              "      <th>200</th>\n",
              "      <td>2019-09-30</td>\n",
              "      <td>8542</td>\n",
              "    </tr>\n",
              "    <tr>\n",
              "      <th>201</th>\n",
              "      <td>2019-10-31</td>\n",
              "      <td>5028</td>\n",
              "    </tr>\n",
              "  </tbody>\n",
              "</table>\n",
              "<p>202 rows × 2 columns</p>\n",
              "</div>\n",
              "      <button class=\"colab-df-convert\" onclick=\"convertToInteractive('df-928a77d7-c120-49a2-b2a5-8eebeffe4b29')\"\n",
              "              title=\"Convert this dataframe to an interactive table.\"\n",
              "              style=\"display:none;\">\n",
              "        \n",
              "  <svg xmlns=\"http://www.w3.org/2000/svg\" height=\"24px\"viewBox=\"0 0 24 24\"\n",
              "       width=\"24px\">\n",
              "    <path d=\"M0 0h24v24H0V0z\" fill=\"none\"/>\n",
              "    <path d=\"M18.56 5.44l.94 2.06.94-2.06 2.06-.94-2.06-.94-.94-2.06-.94 2.06-2.06.94zm-11 1L8.5 8.5l.94-2.06 2.06-.94-2.06-.94L8.5 2.5l-.94 2.06-2.06.94zm10 10l.94 2.06.94-2.06 2.06-.94-2.06-.94-.94-2.06-.94 2.06-2.06.94z\"/><path d=\"M17.41 7.96l-1.37-1.37c-.4-.4-.92-.59-1.43-.59-.52 0-1.04.2-1.43.59L10.3 9.45l-7.72 7.72c-.78.78-.78 2.05 0 2.83L4 21.41c.39.39.9.59 1.41.59.51 0 1.02-.2 1.41-.59l7.78-7.78 2.81-2.81c.8-.78.8-2.07 0-2.86zM5.41 20L4 18.59l7.72-7.72 1.47 1.35L5.41 20z\"/>\n",
              "  </svg>\n",
              "      </button>\n",
              "      \n",
              "  <style>\n",
              "    .colab-df-container {\n",
              "      display:flex;\n",
              "      flex-wrap:wrap;\n",
              "      gap: 12px;\n",
              "    }\n",
              "\n",
              "    .colab-df-convert {\n",
              "      background-color: #E8F0FE;\n",
              "      border: none;\n",
              "      border-radius: 50%;\n",
              "      cursor: pointer;\n",
              "      display: none;\n",
              "      fill: #1967D2;\n",
              "      height: 32px;\n",
              "      padding: 0 0 0 0;\n",
              "      width: 32px;\n",
              "    }\n",
              "\n",
              "    .colab-df-convert:hover {\n",
              "      background-color: #E2EBFA;\n",
              "      box-shadow: 0px 1px 2px rgba(60, 64, 67, 0.3), 0px 1px 3px 1px rgba(60, 64, 67, 0.15);\n",
              "      fill: #174EA6;\n",
              "    }\n",
              "\n",
              "    [theme=dark] .colab-df-convert {\n",
              "      background-color: #3B4455;\n",
              "      fill: #D2E3FC;\n",
              "    }\n",
              "\n",
              "    [theme=dark] .colab-df-convert:hover {\n",
              "      background-color: #434B5C;\n",
              "      box-shadow: 0px 1px 3px 1px rgba(0, 0, 0, 0.15);\n",
              "      filter: drop-shadow(0px 1px 2px rgba(0, 0, 0, 0.3));\n",
              "      fill: #FFFFFF;\n",
              "    }\n",
              "  </style>\n",
              "\n",
              "      <script>\n",
              "        const buttonEl =\n",
              "          document.querySelector('#df-928a77d7-c120-49a2-b2a5-8eebeffe4b29 button.colab-df-convert');\n",
              "        buttonEl.style.display =\n",
              "          google.colab.kernel.accessAllowed ? 'block' : 'none';\n",
              "\n",
              "        async function convertToInteractive(key) {\n",
              "          const element = document.querySelector('#df-928a77d7-c120-49a2-b2a5-8eebeffe4b29');\n",
              "          const dataTable =\n",
              "            await google.colab.kernel.invokeFunction('convertToInteractive',\n",
              "                                                     [key], {});\n",
              "          if (!dataTable) return;\n",
              "\n",
              "          const docLinkHtml = 'Like what you see? Visit the ' +\n",
              "            '<a target=\"_blank\" href=https://colab.research.google.com/notebooks/data_table.ipynb>data table notebook</a>'\n",
              "            + ' to learn more about interactive tables.';\n",
              "          element.innerHTML = '';\n",
              "          dataTable['output_type'] = 'display_data';\n",
              "          await google.colab.output.renderOutput(dataTable, element);\n",
              "          const docLink = document.createElement('div');\n",
              "          docLink.innerHTML = docLinkHtml;\n",
              "          element.appendChild(docLink);\n",
              "        }\n",
              "      </script>\n",
              "    </div>\n",
              "  </div>\n",
              "  "
            ],
            "text/plain": [
              "          Date  Crime_Count\n",
              "0   2003-01-31        10448\n",
              "1   2003-02-28         9048\n",
              "2   2003-03-31        11078\n",
              "3   2003-04-30        11449\n",
              "4   2003-05-31        11771\n",
              "..         ...          ...\n",
              "197 2019-06-30         8733\n",
              "198 2019-07-31         9184\n",
              "199 2019-08-31         9170\n",
              "200 2019-09-30         8542\n",
              "201 2019-10-31         5028\n",
              "\n",
              "[202 rows x 2 columns]"
            ]
          },
          "execution_count": 33,
          "metadata": {},
          "output_type": "execute_result"
        }
      ],
      "source": [
        "df_rf"
      ]
    },
    {
      "cell_type": "code",
      "execution_count": null,
      "metadata": {
        "colab": {
          "background_save": true
        },
        "id": "xl-5l8CACgbx"
      },
      "outputs": [],
      "source": [
        "df_rf = df_rf.rename(columns = {'Date':'ds','Crime_Count':'y'})"
      ]
    },
    {
      "cell_type": "code",
      "execution_count": null,
      "metadata": {
        "colab": {
          "background_save": true
        },
        "id": "kysyTQWZDCq0",
        "outputId": "00067450-cc78-404e-d863-faa911b0d1b3"
      },
      "outputs": [
        {
          "data": {
            "text/html": [
              "\n",
              "  <div id=\"df-1e2a85ae-f614-4260-ac6e-c8896d080235\">\n",
              "    <div class=\"colab-df-container\">\n",
              "      <div>\n",
              "<style scoped>\n",
              "    .dataframe tbody tr th:only-of-type {\n",
              "        vertical-align: middle;\n",
              "    }\n",
              "\n",
              "    .dataframe tbody tr th {\n",
              "        vertical-align: top;\n",
              "    }\n",
              "\n",
              "    .dataframe thead th {\n",
              "        text-align: right;\n",
              "    }\n",
              "</style>\n",
              "<table border=\"1\" class=\"dataframe\">\n",
              "  <thead>\n",
              "    <tr style=\"text-align: right;\">\n",
              "      <th></th>\n",
              "      <th>ds</th>\n",
              "      <th>y</th>\n",
              "    </tr>\n",
              "  </thead>\n",
              "  <tbody>\n",
              "    <tr>\n",
              "      <th>0</th>\n",
              "      <td>2003-01-31</td>\n",
              "      <td>10448</td>\n",
              "    </tr>\n",
              "    <tr>\n",
              "      <th>1</th>\n",
              "      <td>2003-02-28</td>\n",
              "      <td>9048</td>\n",
              "    </tr>\n",
              "    <tr>\n",
              "      <th>2</th>\n",
              "      <td>2003-03-31</td>\n",
              "      <td>11078</td>\n",
              "    </tr>\n",
              "    <tr>\n",
              "      <th>3</th>\n",
              "      <td>2003-04-30</td>\n",
              "      <td>11449</td>\n",
              "    </tr>\n",
              "    <tr>\n",
              "      <th>4</th>\n",
              "      <td>2003-05-31</td>\n",
              "      <td>11771</td>\n",
              "    </tr>\n",
              "    <tr>\n",
              "      <th>...</th>\n",
              "      <td>...</td>\n",
              "      <td>...</td>\n",
              "    </tr>\n",
              "    <tr>\n",
              "      <th>197</th>\n",
              "      <td>2019-06-30</td>\n",
              "      <td>8733</td>\n",
              "    </tr>\n",
              "    <tr>\n",
              "      <th>198</th>\n",
              "      <td>2019-07-31</td>\n",
              "      <td>9184</td>\n",
              "    </tr>\n",
              "    <tr>\n",
              "      <th>199</th>\n",
              "      <td>2019-08-31</td>\n",
              "      <td>9170</td>\n",
              "    </tr>\n",
              "    <tr>\n",
              "      <th>200</th>\n",
              "      <td>2019-09-30</td>\n",
              "      <td>8542</td>\n",
              "    </tr>\n",
              "    <tr>\n",
              "      <th>201</th>\n",
              "      <td>2019-10-31</td>\n",
              "      <td>5028</td>\n",
              "    </tr>\n",
              "  </tbody>\n",
              "</table>\n",
              "<p>202 rows × 2 columns</p>\n",
              "</div>\n",
              "      <button class=\"colab-df-convert\" onclick=\"convertToInteractive('df-1e2a85ae-f614-4260-ac6e-c8896d080235')\"\n",
              "              title=\"Convert this dataframe to an interactive table.\"\n",
              "              style=\"display:none;\">\n",
              "        \n",
              "  <svg xmlns=\"http://www.w3.org/2000/svg\" height=\"24px\"viewBox=\"0 0 24 24\"\n",
              "       width=\"24px\">\n",
              "    <path d=\"M0 0h24v24H0V0z\" fill=\"none\"/>\n",
              "    <path d=\"M18.56 5.44l.94 2.06.94-2.06 2.06-.94-2.06-.94-.94-2.06-.94 2.06-2.06.94zm-11 1L8.5 8.5l.94-2.06 2.06-.94-2.06-.94L8.5 2.5l-.94 2.06-2.06.94zm10 10l.94 2.06.94-2.06 2.06-.94-2.06-.94-.94-2.06-.94 2.06-2.06.94z\"/><path d=\"M17.41 7.96l-1.37-1.37c-.4-.4-.92-.59-1.43-.59-.52 0-1.04.2-1.43.59L10.3 9.45l-7.72 7.72c-.78.78-.78 2.05 0 2.83L4 21.41c.39.39.9.59 1.41.59.51 0 1.02-.2 1.41-.59l7.78-7.78 2.81-2.81c.8-.78.8-2.07 0-2.86zM5.41 20L4 18.59l7.72-7.72 1.47 1.35L5.41 20z\"/>\n",
              "  </svg>\n",
              "      </button>\n",
              "      \n",
              "  <style>\n",
              "    .colab-df-container {\n",
              "      display:flex;\n",
              "      flex-wrap:wrap;\n",
              "      gap: 12px;\n",
              "    }\n",
              "\n",
              "    .colab-df-convert {\n",
              "      background-color: #E8F0FE;\n",
              "      border: none;\n",
              "      border-radius: 50%;\n",
              "      cursor: pointer;\n",
              "      display: none;\n",
              "      fill: #1967D2;\n",
              "      height: 32px;\n",
              "      padding: 0 0 0 0;\n",
              "      width: 32px;\n",
              "    }\n",
              "\n",
              "    .colab-df-convert:hover {\n",
              "      background-color: #E2EBFA;\n",
              "      box-shadow: 0px 1px 2px rgba(60, 64, 67, 0.3), 0px 1px 3px 1px rgba(60, 64, 67, 0.15);\n",
              "      fill: #174EA6;\n",
              "    }\n",
              "\n",
              "    [theme=dark] .colab-df-convert {\n",
              "      background-color: #3B4455;\n",
              "      fill: #D2E3FC;\n",
              "    }\n",
              "\n",
              "    [theme=dark] .colab-df-convert:hover {\n",
              "      background-color: #434B5C;\n",
              "      box-shadow: 0px 1px 3px 1px rgba(0, 0, 0, 0.15);\n",
              "      filter: drop-shadow(0px 1px 2px rgba(0, 0, 0, 0.3));\n",
              "      fill: #FFFFFF;\n",
              "    }\n",
              "  </style>\n",
              "\n",
              "      <script>\n",
              "        const buttonEl =\n",
              "          document.querySelector('#df-1e2a85ae-f614-4260-ac6e-c8896d080235 button.colab-df-convert');\n",
              "        buttonEl.style.display =\n",
              "          google.colab.kernel.accessAllowed ? 'block' : 'none';\n",
              "\n",
              "        async function convertToInteractive(key) {\n",
              "          const element = document.querySelector('#df-1e2a85ae-f614-4260-ac6e-c8896d080235');\n",
              "          const dataTable =\n",
              "            await google.colab.kernel.invokeFunction('convertToInteractive',\n",
              "                                                     [key], {});\n",
              "          if (!dataTable) return;\n",
              "\n",
              "          const docLinkHtml = 'Like what you see? Visit the ' +\n",
              "            '<a target=\"_blank\" href=https://colab.research.google.com/notebooks/data_table.ipynb>data table notebook</a>'\n",
              "            + ' to learn more about interactive tables.';\n",
              "          element.innerHTML = '';\n",
              "          dataTable['output_type'] = 'display_data';\n",
              "          await google.colab.output.renderOutput(dataTable, element);\n",
              "          const docLink = document.createElement('div');\n",
              "          docLink.innerHTML = docLinkHtml;\n",
              "          element.appendChild(docLink);\n",
              "        }\n",
              "      </script>\n",
              "    </div>\n",
              "  </div>\n",
              "  "
            ],
            "text/plain": [
              "            ds      y\n",
              "0   2003-01-31  10448\n",
              "1   2003-02-28   9048\n",
              "2   2003-03-31  11078\n",
              "3   2003-04-30  11449\n",
              "4   2003-05-31  11771\n",
              "..         ...    ...\n",
              "197 2019-06-30   8733\n",
              "198 2019-07-31   9184\n",
              "199 2019-08-31   9170\n",
              "200 2019-09-30   8542\n",
              "201 2019-10-31   5028\n",
              "\n",
              "[202 rows x 2 columns]"
            ]
          },
          "execution_count": 35,
          "metadata": {},
          "output_type": "execute_result"
        }
      ],
      "source": [
        "df_rf"
      ]
    },
    {
      "cell_type": "code",
      "execution_count": null,
      "metadata": {
        "colab": {
          "background_save": true
        },
        "id": "p5oBegbHDELh",
        "outputId": "74a05890-c37f-493a-ca95-e71624770538"
      },
      "outputs": [
        {
          "data": {
            "text/plain": [
              "(202, 2)"
            ]
          },
          "execution_count": 36,
          "metadata": {},
          "output_type": "execute_result"
        }
      ],
      "source": [
        "df_rf.shape"
      ]
    },
    {
      "cell_type": "code",
      "execution_count": null,
      "metadata": {
        "colab": {
          "background_save": true
        },
        "id": "Gkm9hLbj4HTA"
      },
      "outputs": [],
      "source": [
        "df_rf = df_rf.reindex(columns=['ds','y'])"
      ]
    },
    {
      "cell_type": "code",
      "execution_count": null,
      "metadata": {
        "colab": {
          "background_save": true
        },
        "id": "8UTFL9wL4qwh",
        "outputId": "9f3dad7c-8bed-4315-b2d9-0055f62b6944"
      },
      "outputs": [
        {
          "data": {
            "text/html": [
              "\n",
              "  <div id=\"df-f7570b37-641a-4c17-8c2b-67c09c360c5e\">\n",
              "    <div class=\"colab-df-container\">\n",
              "      <div>\n",
              "<style scoped>\n",
              "    .dataframe tbody tr th:only-of-type {\n",
              "        vertical-align: middle;\n",
              "    }\n",
              "\n",
              "    .dataframe tbody tr th {\n",
              "        vertical-align: top;\n",
              "    }\n",
              "\n",
              "    .dataframe thead th {\n",
              "        text-align: right;\n",
              "    }\n",
              "</style>\n",
              "<table border=\"1\" class=\"dataframe\">\n",
              "  <thead>\n",
              "    <tr style=\"text-align: right;\">\n",
              "      <th></th>\n",
              "      <th>ds</th>\n",
              "      <th>y</th>\n",
              "    </tr>\n",
              "  </thead>\n",
              "  <tbody>\n",
              "    <tr>\n",
              "      <th>0</th>\n",
              "      <td>2003-01-31</td>\n",
              "      <td>10448</td>\n",
              "    </tr>\n",
              "    <tr>\n",
              "      <th>1</th>\n",
              "      <td>2003-02-28</td>\n",
              "      <td>9048</td>\n",
              "    </tr>\n",
              "    <tr>\n",
              "      <th>2</th>\n",
              "      <td>2003-03-31</td>\n",
              "      <td>11078</td>\n",
              "    </tr>\n",
              "    <tr>\n",
              "      <th>3</th>\n",
              "      <td>2003-04-30</td>\n",
              "      <td>11449</td>\n",
              "    </tr>\n",
              "    <tr>\n",
              "      <th>4</th>\n",
              "      <td>2003-05-31</td>\n",
              "      <td>11771</td>\n",
              "    </tr>\n",
              "  </tbody>\n",
              "</table>\n",
              "</div>\n",
              "      <button class=\"colab-df-convert\" onclick=\"convertToInteractive('df-f7570b37-641a-4c17-8c2b-67c09c360c5e')\"\n",
              "              title=\"Convert this dataframe to an interactive table.\"\n",
              "              style=\"display:none;\">\n",
              "        \n",
              "  <svg xmlns=\"http://www.w3.org/2000/svg\" height=\"24px\"viewBox=\"0 0 24 24\"\n",
              "       width=\"24px\">\n",
              "    <path d=\"M0 0h24v24H0V0z\" fill=\"none\"/>\n",
              "    <path d=\"M18.56 5.44l.94 2.06.94-2.06 2.06-.94-2.06-.94-.94-2.06-.94 2.06-2.06.94zm-11 1L8.5 8.5l.94-2.06 2.06-.94-2.06-.94L8.5 2.5l-.94 2.06-2.06.94zm10 10l.94 2.06.94-2.06 2.06-.94-2.06-.94-.94-2.06-.94 2.06-2.06.94z\"/><path d=\"M17.41 7.96l-1.37-1.37c-.4-.4-.92-.59-1.43-.59-.52 0-1.04.2-1.43.59L10.3 9.45l-7.72 7.72c-.78.78-.78 2.05 0 2.83L4 21.41c.39.39.9.59 1.41.59.51 0 1.02-.2 1.41-.59l7.78-7.78 2.81-2.81c.8-.78.8-2.07 0-2.86zM5.41 20L4 18.59l7.72-7.72 1.47 1.35L5.41 20z\"/>\n",
              "  </svg>\n",
              "      </button>\n",
              "      \n",
              "  <style>\n",
              "    .colab-df-container {\n",
              "      display:flex;\n",
              "      flex-wrap:wrap;\n",
              "      gap: 12px;\n",
              "    }\n",
              "\n",
              "    .colab-df-convert {\n",
              "      background-color: #E8F0FE;\n",
              "      border: none;\n",
              "      border-radius: 50%;\n",
              "      cursor: pointer;\n",
              "      display: none;\n",
              "      fill: #1967D2;\n",
              "      height: 32px;\n",
              "      padding: 0 0 0 0;\n",
              "      width: 32px;\n",
              "    }\n",
              "\n",
              "    .colab-df-convert:hover {\n",
              "      background-color: #E2EBFA;\n",
              "      box-shadow: 0px 1px 2px rgba(60, 64, 67, 0.3), 0px 1px 3px 1px rgba(60, 64, 67, 0.15);\n",
              "      fill: #174EA6;\n",
              "    }\n",
              "\n",
              "    [theme=dark] .colab-df-convert {\n",
              "      background-color: #3B4455;\n",
              "      fill: #D2E3FC;\n",
              "    }\n",
              "\n",
              "    [theme=dark] .colab-df-convert:hover {\n",
              "      background-color: #434B5C;\n",
              "      box-shadow: 0px 1px 3px 1px rgba(0, 0, 0, 0.15);\n",
              "      filter: drop-shadow(0px 1px 2px rgba(0, 0, 0, 0.3));\n",
              "      fill: #FFFFFF;\n",
              "    }\n",
              "  </style>\n",
              "\n",
              "      <script>\n",
              "        const buttonEl =\n",
              "          document.querySelector('#df-f7570b37-641a-4c17-8c2b-67c09c360c5e button.colab-df-convert');\n",
              "        buttonEl.style.display =\n",
              "          google.colab.kernel.accessAllowed ? 'block' : 'none';\n",
              "\n",
              "        async function convertToInteractive(key) {\n",
              "          const element = document.querySelector('#df-f7570b37-641a-4c17-8c2b-67c09c360c5e');\n",
              "          const dataTable =\n",
              "            await google.colab.kernel.invokeFunction('convertToInteractive',\n",
              "                                                     [key], {});\n",
              "          if (!dataTable) return;\n",
              "\n",
              "          const docLinkHtml = 'Like what you see? Visit the ' +\n",
              "            '<a target=\"_blank\" href=https://colab.research.google.com/notebooks/data_table.ipynb>data table notebook</a>'\n",
              "            + ' to learn more about interactive tables.';\n",
              "          element.innerHTML = '';\n",
              "          dataTable['output_type'] = 'display_data';\n",
              "          await google.colab.output.renderOutput(dataTable, element);\n",
              "          const docLink = document.createElement('div');\n",
              "          docLink.innerHTML = docLinkHtml;\n",
              "          element.appendChild(docLink);\n",
              "        }\n",
              "      </script>\n",
              "    </div>\n",
              "  </div>\n",
              "  "
            ],
            "text/plain": [
              "          ds      y\n",
              "0 2003-01-31  10448\n",
              "1 2003-02-28   9048\n",
              "2 2003-03-31  11078\n",
              "3 2003-04-30  11449\n",
              "4 2003-05-31  11771"
            ]
          },
          "execution_count": 38,
          "metadata": {},
          "output_type": "execute_result"
        }
      ],
      "source": [
        "df_rf.head()"
      ]
    },
    {
      "cell_type": "code",
      "execution_count": null,
      "metadata": {
        "colab": {
          "background_save": true
        },
        "id": "7kyeT6c4DUdg",
        "outputId": "390b6138-03f1-4cdf-cc4a-f1f60c535719"
      },
      "outputs": [
        {
          "name": "stdout",
          "output_type": "stream",
          "text": [
            "Shape of new dataframes (150, 2) (52, 2)\n"
          ]
        }
      ],
      "source": [
        "df_rf_train = df_rf.iloc[:150,:]\n",
        "df_rf_test = df_rf.iloc[150:,:]\n",
        "print(\"Shape of new dataframes\",df_rf_train.shape,df_rf_test.shape)"
      ]
    },
    {
      "cell_type": "markdown",
      "metadata": {
        "id": "shwXFuzh5g4Q"
      },
      "source": [
        "# Making Predictions"
      ]
    },
    {
      "cell_type": "code",
      "execution_count": null,
      "metadata": {
        "colab": {
          "background_save": true
        },
        "id": "eGcKCx_emv8t",
        "outputId": "74bd5472-91ab-4d0a-b817-8f5a54a4f941"
      },
      "outputs": [
        {
          "name": "stdout",
          "output_type": "stream",
          "text": [
            "Starting model train..\n",
            "Model train completed..\n",
            "Creating forecasted set..\n",
            "Forecast complete..\n"
          ]
        }
      ],
      "source": [
        "import pandas as pd\n",
        "from sklearn.feature_selection import RFE\n",
        "from sklearn.ensemble import RandomForestRegressor\n",
        "from pandas import DataFrame\n",
        "import numpy as np\n",
        "from datetime import datetime\n",
        "import calendar\n",
        "from datetime import timedelta\n",
        "import datetime as dt\n",
        "def add_month(df, forecast_length, forecast_period):\n",
        "    end_point = len(df)\n",
        "    df1 = pd.DataFrame(index=range(forecast_length), columns=range(2))\n",
        "    df1.columns = ['y', 'ds']\n",
        "    df = df.append(df1)\n",
        "    df = df.reset_index(drop=True)\n",
        "    x = df.at[end_point - 1, 'ds']\n",
        "    x = pd.to_datetime(x, format='%Y-%m-%d')\n",
        "    days_in_month=calendar.monthrange(x.year, x.month)[1]\n",
        "    if forecast_period == 'Week':\n",
        "        for i in range(forecast_length):\n",
        "            df.at[df.index[end_point + i], 'ds'] = x + timedelta(days=7 + 7 * i)\n",
        "            df.at[df.index[end_point + i], 'y'] = 0\n",
        "    elif forecast_period == 'Month':\n",
        "        for i in range(forecast_length):\n",
        "            df.at[df.index[end_point + i], 'ds'] = x + timedelta(days=days_in_month + days_in_month * i)\n",
        "            df.at[df.index[end_point + i], 'y'] = 0\n",
        "   # df['ds'] = pd.to_datetime(df['ds'], format='%Y-%m-%d')\n",
        "    df['month'] = df['ds'].dt.month\n",
        "    df = df.drop(['ds'], axis=1)\n",
        "    return df\n",
        "def create_lag(df3):\n",
        "    dataframe = DataFrame()\n",
        "    for i in range(12, 0, -1):\n",
        "        dataframe['t-' + str(i)] = df3.y.shift(i)\n",
        "    df4 = pd.concat([df3, dataframe], axis=1)\n",
        "    df4.dropna(inplace=True)\n",
        "    return df4\n",
        "def randomForest(df1, forecast_length, forecast_period):\n",
        "    df3 = df1[['y', 'ds']]\n",
        "    df3 = add_month(df3, forecast_length, forecast_period)\n",
        "    finaldf = create_lag(df3)\n",
        "    finaldf = finaldf.reset_index(drop=True)\n",
        "    n = forecast_length\n",
        "    end_point = len(finaldf)\n",
        "    x = end_point - n\n",
        "    finaldf_train = finaldf.loc[:x - 1, :]\n",
        "    finaldf_train_x = finaldf_train.loc[:, finaldf_train.columns != 'y']\n",
        "    finaldf_train_y = finaldf_train['y']\n",
        "    print(\"Starting model train..\")\n",
        "    rfr=RandomForestRegressor(n_estimators=100, random_state=1)\n",
        "    rfe = RFE(estimator=rfr, step=4)\n",
        "    fit = rfe.fit(finaldf_train_x, finaldf_train_y)\n",
        "    print(\"Model train completed..\")\n",
        "    print(\"Creating forecasted set..\")\n",
        "    yhat = []\n",
        "    end_point = len(finaldf)\n",
        "    n = forecast_length\n",
        "    df3_end = len(df3)\n",
        "    for i in range(n, 0, -1):\n",
        "        y = end_point - i\n",
        "        inputfile = finaldf.loc[y:end_point, :]\n",
        "        inputfile_x = inputfile.loc[:, inputfile.columns != 'y']\n",
        "        pred_set = inputfile_x.head(1)\n",
        "        pred = fit.predict(pred_set)\n",
        "        df3.at[df3.index[df3_end - i], 'y'] = pred[0]\n",
        "        finaldf = create_lag(df3)\n",
        "        finaldf = finaldf.reset_index(drop=True)\n",
        "        yhat.append(pred)\n",
        "    yhat = np.array(yhat)\n",
        "    print(\"Forecast complete..\")\n",
        "    return yhat\n",
        "predicted_value=randomForest(df_rf_train, 24, 'Months')"
      ]
    },
    {
      "cell_type": "code",
      "execution_count": null,
      "metadata": {
        "colab": {
          "background_save": true
        },
        "id": "Miff0kgE7eZY",
        "outputId": "28c46167-e18f-4635-c67b-497dea9fef03"
      },
      "outputs": [
        {
          "data": {
            "image/png": "[encoded data removed]",
            "text/plain": [
              "<Figure size 432x288 with 1 Axes>"
            ]
          },
          "metadata": {},
          "output_type": "display_data"
        }
      ],
      "source": [
        "from matplotlib import pyplot\n",
        "pyplot.plot(predicted_value, label='Predicted')\n",
        "pyplot.ylabel(\"Crime Count\")\n",
        "pyplot.xlabel(\"Months\")\n",
        "pyplot.legend()\n",
        "pyplot.show()"
      ]
    },
    {
      "cell_type": "markdown",
      "metadata": {
        "id": "Rwy07nKNv4lm"
      },
      "source": [
        "# Calculating Accuracy\n"
      ]
    },
    {
      "cell_type": "code",
      "execution_count": null,
      "metadata": {
        "colab": {
          "background_save": true
        },
        "id": "0rVxl8QOv_AE"
      },
      "outputs": [],
      "source": [
        "import pandas as pd\n",
        "from sklearn.feature_selection import RFE"
      ]
    },
    {
      "cell_type": "code",
      "execution_count": null,
      "metadata": {
        "colab": {
          "background_save": true
        },
        "id": "4YArVt2owH5j",
        "outputId": "31e9eb94-c518-47e3-cff5-a0d89e841d2a"
      },
      "outputs": [
        {
          "data": {
            "text/html": [
              "\n",
              "  <div id=\"df-c9c87544-980c-4942-90ad-2cdac87cf3ef\">\n",
              "    <div class=\"colab-df-container\">\n",
              "      <div>\n",
              "<style scoped>\n",
              "    .dataframe tbody tr th:only-of-type {\n",
              "        vertical-align: middle;\n",
              "    }\n",
              "\n",
              "    .dataframe tbody tr th {\n",
              "        vertical-align: top;\n",
              "    }\n",
              "\n",
              "    .dataframe thead th {\n",
              "        text-align: right;\n",
              "    }\n",
              "</style>\n",
              "<table border=\"1\" class=\"dataframe\">\n",
              "  <thead>\n",
              "    <tr style=\"text-align: right;\">\n",
              "      <th></th>\n",
              "      <th>ds</th>\n",
              "      <th>y</th>\n",
              "    </tr>\n",
              "  </thead>\n",
              "  <tbody>\n",
              "    <tr>\n",
              "      <th>0</th>\n",
              "      <td>2003-01-31</td>\n",
              "      <td>10448</td>\n",
              "    </tr>\n",
              "    <tr>\n",
              "      <th>1</th>\n",
              "      <td>2003-02-28</td>\n",
              "      <td>9048</td>\n",
              "    </tr>\n",
              "    <tr>\n",
              "      <th>2</th>\n",
              "      <td>2003-03-31</td>\n",
              "      <td>11078</td>\n",
              "    </tr>\n",
              "    <tr>\n",
              "      <th>3</th>\n",
              "      <td>2003-04-30</td>\n",
              "      <td>11449</td>\n",
              "    </tr>\n",
              "    <tr>\n",
              "      <th>4</th>\n",
              "      <td>2003-05-31</td>\n",
              "      <td>11771</td>\n",
              "    </tr>\n",
              "  </tbody>\n",
              "</table>\n",
              "</div>\n",
              "      <button class=\"colab-df-convert\" onclick=\"convertToInteractive('df-c9c87544-980c-4942-90ad-2cdac87cf3ef')\"\n",
              "              title=\"Convert this dataframe to an interactive table.\"\n",
              "              style=\"display:none;\">\n",
              "        \n",
              "  <svg xmlns=\"http://www.w3.org/2000/svg\" height=\"24px\"viewBox=\"0 0 24 24\"\n",
              "       width=\"24px\">\n",
              "    <path d=\"M0 0h24v24H0V0z\" fill=\"none\"/>\n",
              "    <path d=\"M18.56 5.44l.94 2.06.94-2.06 2.06-.94-2.06-.94-.94-2.06-.94 2.06-2.06.94zm-11 1L8.5 8.5l.94-2.06 2.06-.94-2.06-.94L8.5 2.5l-.94 2.06-2.06.94zm10 10l.94 2.06.94-2.06 2.06-.94-2.06-.94-.94-2.06-.94 2.06-2.06.94z\"/><path d=\"M17.41 7.96l-1.37-1.37c-.4-.4-.92-.59-1.43-.59-.52 0-1.04.2-1.43.59L10.3 9.45l-7.72 7.72c-.78.78-.78 2.05 0 2.83L4 21.41c.39.39.9.59 1.41.59.51 0 1.02-.2 1.41-.59l7.78-7.78 2.81-2.81c.8-.78.8-2.07 0-2.86zM5.41 20L4 18.59l7.72-7.72 1.47 1.35L5.41 20z\"/>\n",
              "  </svg>\n",
              "      </button>\n",
              "      \n",
              "  <style>\n",
              "    .colab-df-container {\n",
              "      display:flex;\n",
              "      flex-wrap:wrap;\n",
              "      gap: 12px;\n",
              "    }\n",
              "\n",
              "    .colab-df-convert {\n",
              "      background-color: #E8F0FE;\n",
              "      border: none;\n",
              "      border-radius: 50%;\n",
              "      cursor: pointer;\n",
              "      display: none;\n",
              "      fill: #1967D2;\n",
              "      height: 32px;\n",
              "      padding: 0 0 0 0;\n",
              "      width: 32px;\n",
              "    }\n",
              "\n",
              "    .colab-df-convert:hover {\n",
              "      background-color: #E2EBFA;\n",
              "      box-shadow: 0px 1px 2px rgba(60, 64, 67, 0.3), 0px 1px 3px 1px rgba(60, 64, 67, 0.15);\n",
              "      fill: #174EA6;\n",
              "    }\n",
              "\n",
              "    [theme=dark] .colab-df-convert {\n",
              "      background-color: #3B4455;\n",
              "      fill: #D2E3FC;\n",
              "    }\n",
              "\n",
              "    [theme=dark] .colab-df-convert:hover {\n",
              "      background-color: #434B5C;\n",
              "      box-shadow: 0px 1px 3px 1px rgba(0, 0, 0, 0.15);\n",
              "      filter: drop-shadow(0px 1px 2px rgba(0, 0, 0, 0.3));\n",
              "      fill: #FFFFFF;\n",
              "    }\n",
              "  </style>\n",
              "\n",
              "      <script>\n",
              "        const buttonEl =\n",
              "          document.querySelector('#df-c9c87544-980c-4942-90ad-2cdac87cf3ef button.colab-df-convert');\n",
              "        buttonEl.style.display =\n",
              "          google.colab.kernel.accessAllowed ? 'block' : 'none';\n",
              "\n",
              "        async function convertToInteractive(key) {\n",
              "          const element = document.querySelector('#df-c9c87544-980c-4942-90ad-2cdac87cf3ef');\n",
              "          const dataTable =\n",
              "            await google.colab.kernel.invokeFunction('convertToInteractive',\n",
              "                                                     [key], {});\n",
              "          if (!dataTable) return;\n",
              "\n",
              "          const docLinkHtml = 'Like what you see? Visit the ' +\n",
              "            '<a target=\"_blank\" href=https://colab.research.google.com/notebooks/data_table.ipynb>data table notebook</a>'\n",
              "            + ' to learn more about interactive tables.';\n",
              "          element.innerHTML = '';\n",
              "          dataTable['output_type'] = 'display_data';\n",
              "          await google.colab.output.renderOutput(dataTable, element);\n",
              "          const docLink = document.createElement('div');\n",
              "          docLink.innerHTML = docLinkHtml;\n",
              "          element.appendChild(docLink);\n",
              "        }\n",
              "      </script>\n",
              "    </div>\n",
              "  </div>\n",
              "  "
            ],
            "text/plain": [
              "          ds      y\n",
              "0 2003-01-31  10448\n",
              "1 2003-02-28   9048\n",
              "2 2003-03-31  11078\n",
              "3 2003-04-30  11449\n",
              "4 2003-05-31  11771"
            ]
          },
          "execution_count": 43,
          "metadata": {},
          "output_type": "execute_result"
        }
      ],
      "source": [
        "from sklearn.ensemble import RandomForestRegressor\n",
        "from pandas import DataFrame\n",
        "import numpy as np\n",
        "from datetime import timedelta\n",
        "df_rf.head()\n"
      ]
    },
    {
      "cell_type": "code",
      "execution_count": null,
      "metadata": {
        "colab": {
          "background_save": true
        },
        "id": "4wxxbHdFxXwh"
      },
      "outputs": [],
      "source": [
        "dataframe = DataFrame()\n",
        "for i in range(12, 0, -1):\n",
        "   dataframe['t-' + str(i)] = df_rf.y.shift(i)\n",
        "final_data = pd.concat([df_rf, dataframe], axis=1)\n",
        "final_data.dropna(inplace=True)"
      ]
    },
    {
      "cell_type": "code",
      "execution_count": null,
      "metadata": {
        "colab": {
          "background_save": true
        },
        "id": "YAM8SOuvx49s"
      },
      "outputs": [],
      "source": [
        "final_data['ds'] = pd.to_datetime(final_data['ds'], format='%Y-%m-%d')\n",
        "final_data['month'] = final_data['ds'].dt.month"
      ]
    },
    {
      "cell_type": "code",
      "execution_count": null,
      "metadata": {
        "colab": {
          "background_save": true
        },
        "id": "8bc7dMslyDYx",
        "outputId": "970eab79-42a8-49b7-84a4-84d7b64cbdd1"
      },
      "outputs": [
        {
          "name": "stdout",
          "output_type": "stream",
          "text": [
            "Starting model train..\n"
          ]
        }
      ],
      "source": [
        "finaldf = final_data.drop(['ds'], axis=1)\n",
        "finaldf = finaldf.reset_index(drop=True)\n",
        "test_length=170\n",
        "end_point = len(finaldf)\n",
        "x = end_point - test_length\n",
        "finaldf_train = finaldf.loc[:x - 1, :]\n",
        "finaldf_test = finaldf.loc[x:, :]\n",
        "finaldf_test_x = finaldf_test.loc[:, finaldf_test.columns != 'y']\n",
        "finaldf_test_y = finaldf_test['y']\n",
        "finaldf_train_x = finaldf_train.loc[:, finaldf_train.columns != 'y']\n",
        "finaldf_train_y = finaldf_train['y']\n",
        "print(\"Starting model train..\")\n",
        "rfr=RandomForestRegressor(n_estimators=100, random_state=1)\n",
        "rfe = RFE(estimator=rfr, step=4)\n",
        "fit = rfe.fit(finaldf_train_x, finaldf_train_y)\n",
        "y_pred = fit.predict(finaldf_test_x)"
      ]
    },
    {
      "cell_type": "code",
      "execution_count": null,
      "metadata": {
        "colab": {
          "background_save": true
        },
        "id": "PG5qO66IyW1D",
        "outputId": "25478016-0103-4880-dc6c-7e6d948cfe72"
      },
      "outputs": [
        {
          "name": "stdout",
          "output_type": "stream",
          "text": [
            "Accuracy: 91.31 %.\n"
          ]
        }
      ],
      "source": [
        "y_true = np.array(finaldf_test_y)\n",
        "sumvalue=np.sum(y_true)\n",
        "mape=np.sum(np.abs((y_true - y_pred)))/sumvalue*100\n",
        "accuracy=100-mape\n",
        "print('Accuracy:', round(accuracy,2),'%.')"
      ]
    },
    {
      "cell_type": "code",
      "execution_count": null,
      "metadata": {
        "colab": {
          "background_save": true
        },
        "id": "dSx9i98M0MdJ",
        "outputId": "519bfb63-2f7a-4e0f-e370-2b893fd2f769"
      },
      "outputs": [
        {
          "data": {
            "image/png": "[encoded data removed]",
            "text/plain": [
              "<Figure size 432x288 with 1 Axes>"
            ]
          },
          "metadata": {},
          "output_type": "display_data"
        }
      ],
      "source": [
        "from matplotlib import pyplot\n",
        "pyplot.plot(y_true, label='Expected')\n",
        "pyplot.plot(y_pred, label='Predicted')\n",
        "pyplot.ylabel(\"Crime Count\")\n",
        "pyplot.xlabel(\"Months\")\n",
        "pyplot.legend()\n",
        "pyplot.show()"
      ]
    },
    {
      "cell_type": "code",
      "execution_count": null,
      "metadata": {
        "colab": {
          "background_save": true
        },
        "id": "kTVh96a03bI-",
        "outputId": "469a86fd-02f8-41c2-ac0c-517f5754d855"
      },
      "outputs": [
        {
          "name": "stdout",
          "output_type": "stream",
          "text": [
            "Mean Absolute Error: 921.8332352941176\n",
            "Mean Squared Error: 1284279.0064864706\n",
            "Root Mean Squared Error: 1133.260343648568\n"
          ]
        }
      ],
      "source": [
        "from sklearn import metrics\n",
        "print('Mean Absolute Error:', metrics.mean_absolute_error(y_true, y_pred))\n",
        "print('Mean Squared Error:', metrics.mean_squared_error(y_true, y_pred))\n",
        "print('Root Mean Squared Error:', np.sqrt(metrics.mean_squared_error(y_true, y_pred)))"
      ]
    },
    {
      "cell_type": "code",
      "execution_count": null,
      "metadata": {
        "colab": {
          "background_save": true
        },
        "id": "ZJO5RAud6OhI",
        "outputId": "b6e5be3c-df4c-45c4-b0a2-51c244f9f3ee"
      },
      "outputs": [
        {
          "name": "stdout",
          "output_type": "stream",
          "text": [
            "0.4797517007897627\n"
          ]
        }
      ],
      "source": [
        "from sklearn.metrics import r2_score\n",
        "r2 = r2_score(y_true,y_pred)\n",
        "print(r2)"
      ]
    }
  ],
  "metadata": {
    "colab": {
      "provenance": []
    },
    "kernelspec": {
      "display_name": "Python 3",
      "name": "python3"
    },
    "language_info": {
      "name": "python"
    }
  },
  "nbformat": 4,
  "nbformat_minor": 0
}